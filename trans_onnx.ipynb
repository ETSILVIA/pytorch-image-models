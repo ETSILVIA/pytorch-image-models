{
 "cells": [
  {
   "cell_type": "code",
   "execution_count": 1,
   "metadata": {},
   "outputs": [
    {
     "name": "stderr",
     "output_type": "stream",
     "text": [
      "/opt/conda/envs/gaze_merge/lib/python3.8/site-packages/tqdm/auto.py:21: TqdmWarning: IProgress not found. Please update jupyter and ipywidgets. See https://ipywidgets.readthedocs.io/en/stable/user_install.html\n",
      "  from .autonotebook import tqdm as notebook_tqdm\n"
     ]
    },
    {
     "ename": "TypeError",
     "evalue": "__new__() takes 3 positional arguments but 4 were given",
     "output_type": "error",
     "traceback": [
      "\u001b[0;31m---------------------------------------------------------------------------\u001b[0m",
      "\u001b[0;31mTypeError\u001b[0m                                 Traceback (most recent call last)",
      "Cell \u001b[0;32mIn[1], line 6\u001b[0m\n\u001b[1;32m      3\u001b[0m \u001b[39mimport\u001b[39;00m \u001b[39mtorch\u001b[39;00m\n\u001b[1;32m      4\u001b[0m \u001b[39m# torch.distributed.init_process_group(backend='nccl',init_method='tcp://localhost:23456', world_size=1, rank=0)\u001b[39;00m\n\u001b[1;32m      5\u001b[0m \u001b[39m# from torchlcnet import TorchLCNet\u001b[39;00m\n\u001b[0;32m----> 6\u001b[0m model\u001b[39m=\u001b[39mtorch\u001b[39m.\u001b[39;49mload(\u001b[39m'\u001b[39;49m\u001b[39m./output/train/20240514-095727-vgnet-128/checkpoint-76.pth\u001b[39;49m\u001b[39m'\u001b[39;49m)\n\u001b[1;32m      7\u001b[0m \u001b[39mprint\u001b[39m(model)\n\u001b[1;32m      8\u001b[0m \u001b[39m# print(model)\u001b[39;00m\n\u001b[1;32m      9\u001b[0m \u001b[39m# model=model.module\u001b[39;00m\n\u001b[1;32m     10\u001b[0m \u001b[39m# print(model)\u001b[39;00m\n\u001b[1;32m     11\u001b[0m \u001b[39m# torch.save(model.module,'/workspace/eye_net/single_eye_state/model/vgnetg_1_0mp_se_hardswish_256linear_20240201_modifytriplet256_acc977_checkpoint_165.pth')\u001b[39;00m\n\u001b[1;32m     12\u001b[0m \u001b[39m# print(model)\u001b[39;00m\n",
      "File \u001b[0;32m/opt/conda/envs/gaze_merge/lib/python3.8/site-packages/torch/serialization.py:592\u001b[0m, in \u001b[0;36mload\u001b[0;34m(f, map_location, pickle_module, **pickle_load_args)\u001b[0m\n\u001b[1;32m    590\u001b[0m             opened_file\u001b[39m.\u001b[39mseek(orig_position)\n\u001b[1;32m    591\u001b[0m             \u001b[39mreturn\u001b[39;00m torch\u001b[39m.\u001b[39mjit\u001b[39m.\u001b[39mload(opened_file)\n\u001b[0;32m--> 592\u001b[0m         \u001b[39mreturn\u001b[39;00m _load(opened_zipfile, map_location, pickle_module, \u001b[39m*\u001b[39;49m\u001b[39m*\u001b[39;49mpickle_load_args)\n\u001b[1;32m    593\u001b[0m \u001b[39mreturn\u001b[39;00m _legacy_load(opened_file, map_location, pickle_module, \u001b[39m*\u001b[39m\u001b[39m*\u001b[39mpickle_load_args)\n",
      "File \u001b[0;32m/opt/conda/envs/gaze_merge/lib/python3.8/site-packages/torch/serialization.py:851\u001b[0m, in \u001b[0;36m_load\u001b[0;34m(zip_file, map_location, pickle_module, pickle_file, **pickle_load_args)\u001b[0m\n\u001b[1;32m    849\u001b[0m unpickler \u001b[39m=\u001b[39m pickle_module\u001b[39m.\u001b[39mUnpickler(data_file, \u001b[39m*\u001b[39m\u001b[39m*\u001b[39mpickle_load_args)\n\u001b[1;32m    850\u001b[0m unpickler\u001b[39m.\u001b[39mpersistent_load \u001b[39m=\u001b[39m persistent_load\n\u001b[0;32m--> 851\u001b[0m result \u001b[39m=\u001b[39m unpickler\u001b[39m.\u001b[39;49mload()\n\u001b[1;32m    853\u001b[0m torch\u001b[39m.\u001b[39m_utils\u001b[39m.\u001b[39m_validate_loaded_sparse_tensors()\n\u001b[1;32m    855\u001b[0m \u001b[39mreturn\u001b[39;00m result\n",
      "\u001b[0;31mTypeError\u001b[0m: __new__() takes 3 positional arguments but 4 were given"
     ]
    }
   ],
   "source": [
    "import os\n",
    "os.environ['CUDA_VISIBLE_DEVICES'] = '1'\n",
    "import torch\n",
    "# torch.distributed.init_process_group(backend='nccl',init_method='tcp://localhost:23456', world_size=1, rank=0)\n",
    "# from torchlcnet import TorchLCNet\n",
    "model=torch.load('./output/train/20240514-095727-vgnet-128/checkpoint-76.pth')\n",
    "print(model)\n",
    "# print(model)\n",
    "# model=model.module\n",
    "# print(model)\n",
    "# torch.save(model.module,'/workspace/eye_net/single_eye_state/model/vgnetg_1_0mp_se_hardswish_256linear_20240201_modifytriplet256_acc977_checkpoint_165.pth')\n",
    "# print(model)\n",
    "dummy_input = torch.randn(1, 3, 128, 128).cuda()\n",
    "dynamic_axes = {\n",
    "    'input': {0: 'batch_size', 1: 'channel', 2: \"height\", 3: 'width'}}\n",
    "#     #             # model.model.set_swish(memory_efficient=False)\n",
    "# # torch.onnx.export(model, dummy_input, \"/workspace/eye_net/single_eye_state/model/vgnetg_checkpoint-135_2batch.onnx\" , verbose=False, opset_version=10,dynamic_axes=dynamic_axes)\n",
    "torch.onnx.export(model, dummy_input, \"/workspace/eye_net/single_eye_state/model/vgnet_20240514_acc969_checkpoint_184_batch1_opset9.onnx\" , verbose=False, opset_version=9)"
   ]
  }
 ],
 "metadata": {
  "kernelspec": {
   "display_name": "gaze_merge",
   "language": "python",
   "name": "python3"
  },
  "language_info": {
   "codemirror_mode": {
    "name": "ipython",
    "version": 3
   },
   "file_extension": ".py",
   "mimetype": "text/x-python",
   "name": "python",
   "nbconvert_exporter": "python",
   "pygments_lexer": "ipython3",
   "version": "3.8.8"
  },
  "orig_nbformat": 4
 },
 "nbformat": 4,
 "nbformat_minor": 2
}
